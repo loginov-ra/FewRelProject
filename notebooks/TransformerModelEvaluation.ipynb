{
 "cells": [
  {
   "cell_type": "code",
   "execution_count": 1,
   "metadata": {},
   "outputs": [],
   "source": [
    "import torch\n",
    "from torch import optim\n",
    "from torch import nn\n",
    "from pytorch_pretrained_bert import TransfoXLModel, TransfoXLCorpus, TransfoXLTokenizer\n",
    "import time, math, sys\n",
    "sys.path.append('../')\n",
    "import numpy as np\n",
    "\n",
    "import models\n",
    "from utils.data_loader import JSONFileDataLoader\n",
    "from utils.transf_data_loader import JSONFileDataLoaderTransf\n",
    "from utils.framework import FewShotREFramework, FewShotREModel\n",
    "from models.sentence_encoding.basic_sentence_encoder import CNNSentenceEncoder\n",
    "from models.proto_model import Proto\n",
    "\n",
    "import warnings\n",
    "warnings.filterwarnings('ignore', category=UserWarning)\n",
    "\n",
    "from openai_transformer.model_pytorch import TransformerModel\n",
    "from openai_transformer.model_pytorch import load_openai_pretrained_model, DEFAULT_CONFIG\n",
    "from openai_transformer.text_utils import TextEncoder\n",
    "\n",
    "import json"
   ]
  },
  {
   "cell_type": "code",
   "execution_count": 2,
   "metadata": {},
   "outputs": [],
   "source": [
    "class TransformerSentenceEncoder(nn.Module):\n",
    "    def __init__(self, n_special, n_ctx=512):\n",
    "        nn.Module.__init__(self)\n",
    "        self.args = DEFAULT_CONFIG\n",
    "        self.model = TransformerModel(self.args, vocab=40990 + n_special, n_ctx=n_ctx)\n",
    "        load_openai_pretrained_model(self.model, path='../openai_transformer/model/',\n",
    "                                           path_names='../openai_transformer/',\n",
    "                                           n_special=n_special, n_ctx=n_ctx)\n",
    "\n",
    "    def forward(self, inputs):\n",
    "        h = self.model(inputs)\n",
    "        return h[-1].squeeze(-1)"
   ]
  },
  {
   "cell_type": "code",
   "execution_count": 3,
   "metadata": {},
   "outputs": [
    {
     "name": "stdout",
     "output_type": "stream",
     "text": [
      "Loading data file...\n",
      "Finish loading\n",
      "Elimiating case sensitive problem...\n",
      "Finish eliminating\n",
      "Finish building\n",
      "Pre-processing data...\n",
      "Finish pre-processing\n",
      "Loading data file...\n",
      "Finish loading\n",
      "Elimiating case sensitive problem...\n",
      "Finish eliminating\n",
      "Finish building\n",
      "Pre-processing data...\n",
      "Finish pre-processing\n"
     ]
    }
   ],
   "source": [
    "model_name = 'proto'\n",
    "N = 5\n",
    "K = 5\n",
    "max_length = 40\n",
    "train_data_loader = JSONFileDataLoaderTransf('../data/fewrel_train.json',\n",
    "                                             max_length=max_length, cuda=True)\n",
    "val_data_loader = JSONFileDataLoaderTransf('../data/fewrel_val.json',\n",
    "                                           max_length=max_length, cuda=True)"
   ]
  },
  {
   "cell_type": "code",
   "execution_count": 4,
   "metadata": {},
   "outputs": [
    {
     "name": "stdout",
     "output_type": "stream",
     "text": [
      "Loading weights...\n"
     ]
    }
   ],
   "source": [
    "framework = FewShotREFramework(train_data_loader, val_data_loader, None)\n",
    "encoder = TransformerSentenceEncoder(n_special=5)\n",
    "model = Proto(encoder, hidden_size=768)"
   ]
  },
  {
   "cell_type": "code",
   "execution_count": null,
   "metadata": {},
   "outputs": [],
   "source": [
    "# %%time\n",
    "# support, query, label = train_data_loader.next_batch(8, 5, 5, 5)\n",
    "# encoder(support)"
   ]
  },
  {
   "cell_type": "code",
   "execution_count": null,
   "metadata": {},
   "outputs": [],
   "source": [
    "# text_encoder = json.load(open('../finetune_transformer_lm/model/encoder_bpe_40000.json'))"
   ]
  },
  {
   "cell_type": "code",
   "execution_count": null,
   "metadata": {},
   "outputs": [
    {
     "name": "stdout",
     "output_type": "stream",
     "text": [
      "Start training...\n",
      "cuda\n",
      "step:  500 | loss: 3.046175, accuracy: 6.50%%\n",
      "[EVAL] step: 1000 | accuracy: 20.04%\n",
      "Best checkpoint\n",
      "step: 1000 | loss: 3.088883, accuracy: 3.75%%\n",
      "[EVAL] step:  185 | accuracy: 19.88%\r"
     ]
    }
   ],
   "source": [
    "framework.train(model, 'proto', 4, 20, N, K, 5, val_step=500,\n",
    "                optimizer=optim.Adam, learning_rate=0.1)"
   ]
  },
  {
   "cell_type": "code",
   "execution_count": null,
   "metadata": {},
   "outputs": [],
   "source": []
  },
  {
   "cell_type": "code",
   "execution_count": null,
   "metadata": {},
   "outputs": [],
   "source": []
  }
 ],
 "metadata": {
  "kernelspec": {
   "display_name": "Python 3",
   "language": "python",
   "name": "python3"
  },
  "language_info": {
   "codemirror_mode": {
    "name": "ipython",
    "version": 3
   },
   "file_extension": ".py",
   "mimetype": "text/x-python",
   "name": "python",
   "nbconvert_exporter": "python",
   "pygments_lexer": "ipython3",
   "version": "3.6.6"
  }
 },
 "nbformat": 4,
 "nbformat_minor": 2
}
