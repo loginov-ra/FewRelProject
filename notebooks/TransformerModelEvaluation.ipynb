{
 "cells": [
  {
   "cell_type": "code",
   "execution_count": 23,
   "metadata": {},
   "outputs": [],
   "source": [
    "import torch\n",
    "from torch import optim\n",
    "from torch import nn\n",
    "from pytorch_pretrained_bert import TransfoXLModel, TransfoXLCorpus, TransfoXLTokenizer\n",
    "import time, math, sys\n",
    "sys.path.append('../')\n",
    "import numpy as np\n",
    "\n",
    "import models\n",
    "from utils.data_loader import JSONFileDataLoader\n",
    "from utils.transf_data_loader import JSONFileDataLoaderTransf\n",
    "from utils.framework import FewShotREFramework, FewShotREModel\n",
    "from models.sentence_encoding.basic_sentence_encoder import CNNSentenceEncoder\n",
    "from models.proto_model import Proto\n",
    "\n",
    "import warnings\n",
    "warnings.filterwarnings('ignore', category=UserWarning)\n",
    "\n",
    "from pytorch_openai_transformer_lm.model_pytorch import TransformerModel\n",
    "from pytorch_openai_transformer_lm.model_pytorch import load_openai_pretrained_model, DEFAULT_CONFIG\n",
    "from pytorch_openai_transformer_lm.text_utils import TextEncoder"
   ]
  },
  {
   "cell_type": "code",
   "execution_count": 24,
   "metadata": {},
   "outputs": [],
   "source": [
    "class TransformerSentenceEncoder(nn.Module):\n",
    "    def __init__(self):\n",
    "        nn.Module.__init__(self)\n",
    "        self.device = torch.device(\"cuda\" if torch.cuda.is_available() else \"cpu\")\n",
    "        self.args = DEFAULT_CONFIG\n",
    "        self.model = TransformerModel(self.args)\n",
    "        load_openai_pretrained_model(self.model, path='../finetune_transformer_lm/model/',\n",
    "                                           path_names='../pytorch_openai_transformer_lm/')\n",
    "\n",
    "    def forward(self, inputs):\n",
    "        word = inputs.to(self.device)\n",
    "        print(word.shape)\n",
    "        h = self.model(word)\n",
    "        print(h.shape)\n",
    "        return h[-1]"
   ]
  },
  {
   "cell_type": "code",
   "execution_count": 3,
   "metadata": {},
   "outputs": [
    {
     "name": "stdout",
     "output_type": "stream",
     "text": [
      "Loading data file...\n",
      "Finish loading\n",
      "Elimiating case sensitive problem...\n",
      "Finish eliminating\n",
      "Finish building\n",
      "Pre-processing data...\n",
      "Finish pre-processing\n",
      "Loading data file...\n",
      "Finish loading\n",
      "Elimiating case sensitive problem...\n",
      "Finish eliminating\n",
      "Finish building\n",
      "Pre-processing data...\n",
      "Finish pre-processing\n"
     ]
    }
   ],
   "source": [
    "model_name = 'proto'\n",
    "N = 5\n",
    "K = 5\n",
    "max_length = 40\n",
    "train_data_loader = JSONFileDataLoaderTransf('../../FewRel/data/train.json',\n",
    "                                             max_length=max_length, cuda=False)\n",
    "val_data_loader = JSONFileDataLoaderTransf('../../FewRel/data/val.json',\n",
    "                                           max_length=max_length, cuda=False)"
   ]
  },
  {
   "cell_type": "code",
   "execution_count": 4,
   "metadata": {},
   "outputs": [
    {
     "name": "stdout",
     "output_type": "stream",
     "text": [
      "Loading weights...\n"
     ]
    }
   ],
   "source": [
    "framework = FewShotREFramework(train_data_loader, val_data_loader, None)\n",
    "encoder = TransformerSentenceEncoder()\n",
    "model = Proto(encoder)"
   ]
  },
  {
   "cell_type": "code",
   "execution_count": 5,
   "metadata": {},
   "outputs": [],
   "source": [
    "device = torch.device(\"cuda\" if torch.cuda.is_available() else \"cpu\")\n",
    "model = model.to(device)"
   ]
  },
  {
   "cell_type": "code",
   "execution_count": 14,
   "metadata": {},
   "outputs": [
    {
     "name": "stdout",
     "output_type": "stream",
     "text": [
      "tensor(267739)\n",
      "CPU times: user 11.1 ms, sys: 1.22 ms, total: 12.3 ms\n",
      "Wall time: 10.6 ms\n"
     ]
    }
   ],
   "source": [
    "%%time\n",
    "support, query, label = train_data_loader.next_batch(8, 5, 5, 5)\n",
    "print(support.max())\n",
    "support[support >= 40000] = 1"
   ]
  },
  {
   "cell_type": "code",
   "execution_count": 15,
   "metadata": {},
   "outputs": [
    {
     "name": "stdout",
     "output_type": "stream",
     "text": [
      "torch.Size([200, 40])\n",
      "torch.Size([1, 200, 768])\n",
      "CPU times: user 33.9 ms, sys: 41.4 ms, total: 75.2 ms\n",
      "Wall time: 77.9 ms\n"
     ]
    },
    {
     "data": {
      "text/plain": [
       "tensor([[-0.9686, -1.3646, -0.7122,  ...,  0.9607, -0.0957, -1.0857],\n",
       "        [-0.2078, -2.1590, -0.8007,  ...,  0.5149,  0.2589,  0.2698],\n",
       "        [ 0.1536, -1.7496, -1.4168,  ...,  1.0634,  0.5634,  0.0037],\n",
       "        ...,\n",
       "        [ 0.0691, -0.5932, -0.1879,  ..., -0.5596, -1.2896,  0.0753],\n",
       "        [ 0.7865,  0.2918, -0.5410,  ..., -0.2975, -0.5084,  0.3388],\n",
       "        [ 0.5703, -0.3014, -0.5006,  ..., -0.8791,  0.2266,  0.5928]],\n",
       "       device='cuda:0', grad_fn=<SelectBackward>)"
      ]
     },
     "execution_count": 15,
     "metadata": {},
     "output_type": "execute_result"
    }
   ],
   "source": [
    "%%time\n",
    "encoder(support)"
   ]
  },
  {
   "cell_type": "code",
   "execution_count": 18,
   "metadata": {},
   "outputs": [],
   "source": [
    "import json\n",
    "text_encoder = json.load(open('../finetune_transformer_lm/model/encoder_bpe_40000.json'))"
   ]
  },
  {
   "cell_type": "code",
   "execution_count": null,
   "metadata": {},
   "outputs": [],
   "source": [
    "TextEncoder('../finetune_transformer_lm/model/encoder_bpe_40000.json')"
   ]
  },
  {
   "cell_type": "code",
   "execution_count": null,
   "metadata": {},
   "outputs": [],
   "source": []
  }
 ],
 "metadata": {
  "kernelspec": {
   "display_name": "Python 3",
   "language": "python",
   "name": "python3"
  },
  "language_info": {
   "codemirror_mode": {
    "name": "ipython",
    "version": 3
   },
   "file_extension": ".py",
   "mimetype": "text/x-python",
   "name": "python",
   "nbconvert_exporter": "python",
   "pygments_lexer": "ipython3",
   "version": "3.6.6"
  }
 },
 "nbformat": 4,
 "nbformat_minor": 2
}
