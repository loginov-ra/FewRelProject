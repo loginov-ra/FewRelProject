{
 "cells": [
  {
   "cell_type": "code",
   "execution_count": 1,
   "metadata": {},
   "outputs": [],
   "source": [
    "import torch\n",
    "from torch import optim\n",
    "from torch import nn\n",
    "from pytorch_pretrained_bert import TransfoXLModel, TransfoXLCorpus, TransfoXLTokenizer\n",
    "import time, math, sys\n",
    "sys.path.append('../')\n",
    "import numpy as np\n",
    "\n",
    "import models\n",
    "from utils.data_loader import JSONFileDataLoader\n",
    "from utils.transf_data_loader import JSONFileDataLoaderTransf\n",
    "from utils.framework import FewShotREFramework, FewShotREModel\n",
    "from models.sentence_encoding.basic_sentence_encoder import CNNSentenceEncoder\n",
    "from models.proto_model import Proto\n",
    "\n",
    "import warnings\n",
    "warnings.filterwarnings('ignore', category=UserWarning)"
   ]
  },
  {
   "cell_type": "code",
   "execution_count": 2,
   "metadata": {},
   "outputs": [],
   "source": [
    "class TransformerSentenceEncoder(nn.Module):\n",
    "    def __init__(self):\n",
    "        nn.Module.__init__(self)\n",
    "        self.device = torch.device(\"cuda\" if torch.cuda.is_available() else \"cpu\")\n",
    "        #self.device = \"cpu\"\n",
    "        self.model = TransfoXLModel.from_pretrained('transfo-xl-wt103')\n",
    "        self.model = self.model.to(self.device)\n",
    "        #self.model.word_emb.requires_grad = False\n",
    "\n",
    "    def forward(self, inputs):\n",
    "        word = inputs.to(self.device)\n",
    "        print(word.shape)\n",
    "        l, m = self.model(word, None)\n",
    "        print(l.shape, len(m))\n",
    "        return l"
   ]
  },
  {
   "cell_type": "code",
   "execution_count": 3,
   "metadata": {},
   "outputs": [
    {
     "name": "stdout",
     "output_type": "stream",
     "text": [
      "cuda\n"
     ]
    }
   ],
   "source": [
    "device = torch.device(\"cuda\" if torch.cuda.is_available() else \"cpu\")\n",
    "print(device)\n",
    "tokenizer = TransfoXLTokenizer.from_pretrained('transfo-xl-wt103')\n",
    "corpus = TransfoXLCorpus.from_pretrained('transfo-xl-wt103')\n",
    "\n",
    "# va_iter = corpus.get_iterator('valid', 16, 128, device=device, ext_len=0)\n",
    "te_iter = corpus.get_iterator('test', 8, 40, device=device, ext_len=0)"
   ]
  },
  {
   "cell_type": "code",
   "execution_count": 4,
   "metadata": {},
   "outputs": [
    {
     "name": "stdout",
     "output_type": "stream",
     "text": [
      "Loading data file...\n",
      "Finish loading\n",
      "Elimiating case sensitive problem...\n",
      "Finish eliminating\n",
      "Finish building\n",
      "Pre-processing data...\n",
      "Finish pre-processing\n",
      "Loading data file...\n",
      "Finish loading\n",
      "Elimiating case sensitive problem...\n",
      "Finish eliminating\n",
      "Finish building\n",
      "Pre-processing data...\n",
      "Finish pre-processing\n"
     ]
    }
   ],
   "source": [
    "model_name = 'proto'\n",
    "N = 5\n",
    "K = 5\n",
    "max_length = 40\n",
    "train_data_loader = JSONFileDataLoaderTransf('../../FewRel/data/train.json',\n",
    "                                             max_length=max_length, cuda=False)\n",
    "val_data_loader = JSONFileDataLoaderTransf('../../FewRel/data/val.json',\n",
    "                                           max_length=max_length, cuda=False)"
   ]
  },
  {
   "cell_type": "code",
   "execution_count": 5,
   "metadata": {},
   "outputs": [],
   "source": [
    "framework = FewShotREFramework(train_data_loader, val_data_loader, None)\n",
    "encoder = TransformerSentenceEncoder()\n",
    "model = Proto(encoder)"
   ]
  },
  {
   "cell_type": "code",
   "execution_count": 6,
   "metadata": {},
   "outputs": [],
   "source": [
    "# %%time\n",
    "# sentence_encoder = CNNSentenceEncoder(train_data_loader.word_vec_mat, max_length)\n",
    "# model = Proto(sentence_encoder)\n",
    "# framework.train(model, model_name, 4, 20, N, K, 5, train_iter=20000)"
   ]
  },
  {
   "cell_type": "code",
   "execution_count": 7,
   "metadata": {},
   "outputs": [],
   "source": [
    "# mems = None\n",
    "# for idx, (data, target, seq_len) in enumerate(te_iter):\n",
    "#     print(data.shape)\n",
    "#     ret = encoder.model(data, mems)\n",
    "#     loss, mems = ret\n",
    "#     loss = loss.mean()\n",
    "#     break"
   ]
  },
  {
   "cell_type": "code",
   "execution_count": 8,
   "metadata": {},
   "outputs": [],
   "source": [
    "# from pytorch_openai_transformer_lm.model_pytorch import TransformerModel\n",
    "# from pytorch_openai_transformer_lm.model_pytorch import load_openai_pretrained_model, DEFAULT_CONFIG\n",
    "\n",
    "# args = DEFAULT_CONFIG\n",
    "# model = TransformerModel(args)\n",
    "# load_openai_pretrained_model(model)"
   ]
  },
  {
   "cell_type": "code",
   "execution_count": 9,
   "metadata": {},
   "outputs": [],
   "source": [
    "# encoder.model.eval()\n",
    "# total_len, total_loss = 0, 0.\n",
    "# with torch.no_grad():\n",
    "#     mems = None\n",
    "#     for idx, (data, target, seq_len) in enumerate(te_iter):\n",
    "#         ret = encoder.model(data, mems)\n",
    "#         loss, mems = ret\n",
    "#         loss = loss.mean()\n",
    "#         total_loss += seq_len * loss.item()\n",
    "#         total_len += seq_len\n",
    "#         break\n",
    "# print(total_loss / total_len)"
   ]
  },
  {
   "cell_type": "code",
   "execution_count": 10,
   "metadata": {},
   "outputs": [],
   "source": [
    "# %%time\n",
    "# support, query, label = train_data_loader.next_batch(2, N, K, 5)\n",
    "# encoder.model.eval()\n",
    "# with torch.no_grad():    \n",
    "#     encoder(support)"
   ]
  },
  {
   "cell_type": "code",
   "execution_count": 13,
   "metadata": {},
   "outputs": [
    {
     "name": "stdout",
     "output_type": "stream",
     "text": [
      "torch.Size([7, 40])\n",
      "torch.Size([7, 40, 1024]) 18\n",
      "CPU times: user 141 ms, sys: 180 ms, total: 321 ms\n",
      "Wall time: 343 ms\n"
     ]
    }
   ],
   "source": [
    "%%time\n",
    "support, query, label = train_data_loader.next_batch(1, 7, 1, 5)\n",
    "encoder(support)"
   ]
  },
  {
   "cell_type": "code",
   "execution_count": null,
   "metadata": {},
   "outputs": [],
   "source": []
  },
  {
   "cell_type": "code",
   "execution_count": 59,
   "metadata": {},
   "outputs": [
    {
     "data": {
      "text/plain": [
       "dict_keys(['word', 'pos1', 'pos2', 'mask'])"
      ]
     },
     "execution_count": 59,
     "metadata": {},
     "output_type": "execute_result"
    }
   ],
   "source": [
    "support.keys()\n",
    "query.keys()"
   ]
  },
  {
   "cell_type": "code",
   "execution_count": 61,
   "metadata": {},
   "outputs": [
    {
     "data": {
      "text/plain": [
       "torch.Size([20, 25])"
      ]
     },
     "execution_count": 61,
     "metadata": {},
     "output_type": "execute_result"
    }
   ],
   "source": [
    "label.shape"
   ]
  },
  {
   "cell_type": "code",
   "execution_count": 63,
   "metadata": {},
   "outputs": [
    {
     "data": {
      "text/plain": [
       "torch.Size([500, 40])"
      ]
     },
     "execution_count": 63,
     "metadata": {},
     "output_type": "execute_result"
    }
   ],
   "source": [
    "support['word'].shape"
   ]
  },
  {
   "cell_type": "code",
   "execution_count": null,
   "metadata": {},
   "outputs": [],
   "source": []
  }
 ],
 "metadata": {
  "kernelspec": {
   "display_name": "Python 3",
   "language": "python",
   "name": "python3"
  },
  "language_info": {
   "codemirror_mode": {
    "name": "ipython",
    "version": 3
   },
   "file_extension": ".py",
   "mimetype": "text/x-python",
   "name": "python",
   "nbconvert_exporter": "python",
   "pygments_lexer": "ipython3",
   "version": "3.6.6"
  }
 },
 "nbformat": 4,
 "nbformat_minor": 2
}
