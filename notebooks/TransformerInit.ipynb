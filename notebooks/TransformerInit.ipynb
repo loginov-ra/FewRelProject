{
 "cells": [
  {
   "cell_type": "code",
   "execution_count": 1,
   "metadata": {},
   "outputs": [],
   "source": [
    "import sys\n",
    "sys.path.append('../')\n",
    "import models\n",
    "from utils.transf_data_loader import JSONFileDataLoaderTransf\n",
    "from utils.framework import FewShotREFramework, FewShotREModel\n",
    "from models.sentence_encoding.basic_sentence_encoder import CNNSentenceEncoder\n",
    "from models.proto_model import Proto\n",
    "from torch import optim"
   ]
  },
  {
   "cell_type": "code",
   "execution_count": 2,
   "metadata": {},
   "outputs": [
    {
     "name": "stdout",
     "output_type": "stream",
     "text": [
      "Loading data file...\n",
      "Finish loading\n",
      "Elimiating case sensitive problem...\n",
      "Finish eliminating\n",
      "Finish building\n",
      "Pre-processing data...\n",
      "Finish pre-processing\n"
     ]
    }
   ],
   "source": [
    "N = 5\n",
    "K = 5\n",
    "\n",
    "max_length = 60\n",
    "train_data_loader = JSONFileDataLoaderTransf('../data/fewrel_train.json', max_length = max_length, cuda = False)"
   ]
  },
  {
   "cell_type": "code",
   "execution_count": 3,
   "metadata": {},
   "outputs": [
    {
     "data": {
      "text/plain": [
       "(tensor([[267739,      0,      1,  ..., 267738, 267738, 267737],\n",
       "         [267739,      8,      9,  ..., 267738, 267738, 267737],\n",
       "         [267739,      3, 267735,  ..., 267738, 267738, 267737],\n",
       "         ...,\n",
       "         [267739,     12,     13,  ..., 267738, 267738, 267737],\n",
       "         [267739,      7,      8,  ..., 267738, 267738, 267737],\n",
       "         [267739,      7,      8,  ..., 267738, 267738, 267737]]),\n",
       " tensor([[267739,     10, 267735,  ..., 267738, 267738, 267737],\n",
       "         [267739,      9, 267735,  ..., 267738, 267738, 267737],\n",
       "         [267739,      7,      8,  ..., 267738, 267738, 267737],\n",
       "         ...,\n",
       "         [267739,     23,     24,  ..., 267738, 267738, 267737],\n",
       "         [267739,     15,     16,  ..., 267738, 267738, 267737],\n",
       "         [267739,      9,     10,  ..., 267738, 267738, 267737]]),\n",
       " tensor([[2, 2, 3, 0, 3, 2, 0, 0, 4, 4, 3, 1, 0, 3, 3, 4, 2, 1, 4, 0, 1, 4, 2, 1,\n",
       "          1],\n",
       "         [4, 1, 4, 2, 3, 2, 4, 1, 2, 3, 4, 2, 2, 1, 0, 3, 3, 3, 4, 0, 0, 1, 1, 0,\n",
       "          0],\n",
       "         [0, 4, 3, 4, 0, 4, 0, 2, 1, 3, 2, 3, 3, 4, 1, 2, 1, 1, 0, 0, 1, 3, 2, 2,\n",
       "          4],\n",
       "         [0, 1, 4, 0, 3, 0, 1, 2, 4, 3, 1, 2, 2, 1, 1, 0, 3, 3, 2, 4, 3, 4, 4, 2,\n",
       "          0],\n",
       "         [1, 1, 3, 1, 0, 2, 4, 2, 4, 1, 4, 3, 1, 0, 4, 3, 2, 0, 3, 4, 3, 2, 0, 0,\n",
       "          2]]))"
      ]
     },
     "execution_count": 3,
     "metadata": {},
     "output_type": "execute_result"
    }
   ],
   "source": [
    "train_data_loader.next_batch(N, K, 5, 5)"
   ]
  },
  {
   "cell_type": "code",
   "execution_count": null,
   "metadata": {},
   "outputs": [],
   "source": []
  }
 ],
 "metadata": {
  "kernelspec": {
   "display_name": "Python 3",
   "language": "python",
   "name": "python3"
  },
  "language_info": {
   "codemirror_mode": {
    "name": "ipython",
    "version": 3
   },
   "file_extension": ".py",
   "mimetype": "text/x-python",
   "name": "python",
   "nbconvert_exporter": "python",
   "pygments_lexer": "ipython3",
   "version": "3.7.1"
  }
 },
 "nbformat": 4,
 "nbformat_minor": 2
}
